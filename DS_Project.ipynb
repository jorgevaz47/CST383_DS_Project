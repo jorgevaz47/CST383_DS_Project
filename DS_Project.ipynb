{
  "cells": [
    {
      "cell_type": "markdown",
      "source": [
        "Predicting Investor-Owned Electric Utilities in the U.S.\n",
        "\n",
        "CST383 Data Science\n",
        "\n",
        "Professor Ergezer\n",
        "\n",
        "Jesus Martinez Miranda,\n",
        "\n",
        "Jorge Vazquez,\n",
        "\n",
        "Walid Elgammal,\n",
        "\n",
        "Zuhra Totakhail\n",
        "\n",
        "6/9/2025\n"
      ],
      "metadata": {
        "id": "0yI6g1rFQBjD"
      },
      "id": "0yI6g1rFQBjD"
    },
    {
      "cell_type": "markdown",
      "source": [
        "Data Exploration"
      ],
      "metadata": {
        "id": "GQv-72w4RA5h"
      },
      "id": "GQv-72w4RA5h"
    },
    {
      "cell_type": "code",
      "execution_count": 8,
      "id": "af5b38da",
      "metadata": {
        "id": "af5b38da"
      },
      "outputs": [],
      "source": [
        "import numpy as np\n",
        "import pandas as pd\n",
        "from scipy.stats import zscore\n",
        "import matplotlib.pyplot as plt\n",
        "from matplotlib import rcParams\n",
        "import seaborn as sns\n",
        "from sklearn.tree import DecisionTreeClassifier\n",
        "from sklearn.model_selection import train_test_split\n",
        "import graphviz\n",
        "from sklearn.tree import export_graphviz\n",
        "from sklearn.model_selection import GridSearchCV\n",
        "from sklearn.model_selection import cross_val_score\n",
        "from sklearn.metrics import precision_score, recall_score\n",
        "\n",
        "\n",
        "\n",
        "# allow output to span multiple output lines in the console\n",
        "pd.set_option('display.max_columns', 500)\n",
        "\n",
        "# switch to seaborn default stylistic parameters\n",
        "# see the useful https://seaborn.pydata.org/tutorial/aesthetics.html\n",
        "sns.set()\n",
        "sns.set_context('paper') # 'talk' for slightly larger\n",
        "\n",
        "# change default plot size\n",
        "rcParams['figure.figsize'] = 9,7\n"
      ]
    },
    {
      "cell_type": "code",
      "execution_count": null,
      "id": "74835e7b",
      "metadata": {
        "id": "74835e7b",
        "outputId": "be943a28-20bc-405c-e53b-3c9fc18ee2e5"
      },
      "outputs": [
        {
          "name": "stdout",
          "output_type": "stream",
          "text": [
            "numpy is already installed.\n",
            "pandas is already installed.\n",
            "matplotlib is already installed.\n",
            "seaborn is already installed.\n"
          ]
        }
      ],
      "source": [
        "# Define packages you want to install\n",
        "packages = ['numpy', 'pandas', 'matplotlib', 'seaborn']\n",
        "\n",
        "# Loop through and install if missing\n",
        "for package in packages:\n",
        "    try:\n",
        "        __import__(package)\n",
        "        print(f\"{package} is already installed.\")\n",
        "    except ImportError:\n",
        "        print(f\"{package} not found. Installing...\")\n",
        "        subprocess.check_call([sys.executable, \"-m\", \"pip\", \"install\", package])\n",
        "        print(f\"{package} installed successfully.\")\n"
      ]
    }
  ],
  "metadata": {
    "language_info": {
      "name": "python"
    },
    "colab": {
      "provenance": []
    },
    "kernelspec": {
      "name": "python3",
      "display_name": "Python 3"
    }
  },
  "nbformat": 4,
  "nbformat_minor": 5
}