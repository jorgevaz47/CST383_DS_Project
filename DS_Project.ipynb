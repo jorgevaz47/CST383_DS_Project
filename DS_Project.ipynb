{
  "cells": [
    {
      "cell_type": "markdown",
      "source": [
        "Predicting Investor-Owned Electric Utilities in the U.S.\n",
        "\n",
        "CST383 Data Science\n",
        "\n",
        "Professor Ergezer\n",
        "\n",
        "Jesus Martinez Miranda,\n",
        "\n",
        "Jorge Vazquez,\n",
        "\n",
        "Walid Elgammal,\n",
        "\n",
        "Zuhra Totakhail\n",
        "\n",
        "6/9/2025\n"
      ],
      "metadata": {
        "id": "0yI6g1rFQBjD"
      },
      "id": "0yI6g1rFQBjD"
    },
    {
      "cell_type": "markdown",
      "source": [
        "Data Exploration"
      ],
      "metadata": {
        "id": "GQv-72w4RA5h"
      },
      "id": "GQv-72w4RA5h"
    },
    {
      "cell_type": "code",
      "execution_count": null,
      "id": "af5b38da",
      "metadata": {
        "id": "af5b38da",
        "outputId": "3ab157e8-c42c-49da-820f-dcad52cdf9f6"
      },
      "outputs": [
        {
          "data": {
            "text/html": [
              "<div>\n",
              "<style scoped>\n",
              "    .dataframe tbody tr th:only-of-type {\n",
              "        vertical-align: middle;\n",
              "    }\n",
              "\n",
              "    .dataframe tbody tr th {\n",
              "        vertical-align: top;\n",
              "    }\n",
              "\n",
              "    .dataframe thead th {\n",
              "        text-align: right;\n",
              "    }\n",
              "</style>\n",
              "<table border=\"1\" class=\"dataframe\">\n",
              "  <thead>\n",
              "    <tr style=\"text-align: right;\">\n",
              "      <th></th>\n",
              "      <th>zip</th>\n",
              "      <th>eiaid</th>\n",
              "      <th>utility_name</th>\n",
              "      <th>state</th>\n",
              "      <th>service_type</th>\n",
              "      <th>ownership</th>\n",
              "      <th>comm_rate</th>\n",
              "      <th>ind_rate</th>\n",
              "      <th>res_rate</th>\n",
              "    </tr>\n",
              "  </thead>\n",
              "  <tbody>\n",
              "    <tr>\n",
              "      <th>0</th>\n",
              "      <td>85321</td>\n",
              "      <td>176</td>\n",
              "      <td>Ajo Improvement Co</td>\n",
              "      <td>AZ</td>\n",
              "      <td>Bundled</td>\n",
              "      <td>Investor Owned</td>\n",
              "      <td>0.087890</td>\n",
              "      <td>0.000000</td>\n",
              "      <td>0.093887</td>\n",
              "    </tr>\n",
              "    <tr>\n",
              "      <th>1</th>\n",
              "      <td>36560</td>\n",
              "      <td>195</td>\n",
              "      <td>Alabama Power Co</td>\n",
              "      <td>AL</td>\n",
              "      <td>Bundled</td>\n",
              "      <td>Investor Owned</td>\n",
              "      <td>0.121895</td>\n",
              "      <td>0.063652</td>\n",
              "      <td>0.135057</td>\n",
              "    </tr>\n",
              "    <tr>\n",
              "      <th>2</th>\n",
              "      <td>36513</td>\n",
              "      <td>195</td>\n",
              "      <td>Alabama Power Co</td>\n",
              "      <td>AL</td>\n",
              "      <td>Bundled</td>\n",
              "      <td>Investor Owned</td>\n",
              "      <td>0.121895</td>\n",
              "      <td>0.063652</td>\n",
              "      <td>0.135057</td>\n",
              "    </tr>\n",
              "    <tr>\n",
              "      <th>3</th>\n",
              "      <td>36280</td>\n",
              "      <td>195</td>\n",
              "      <td>Alabama Power Co</td>\n",
              "      <td>AL</td>\n",
              "      <td>Bundled</td>\n",
              "      <td>Investor Owned</td>\n",
              "      <td>0.121895</td>\n",
              "      <td>0.063652</td>\n",
              "      <td>0.135057</td>\n",
              "    </tr>\n",
              "    <tr>\n",
              "      <th>4</th>\n",
              "      <td>35473</td>\n",
              "      <td>195</td>\n",
              "      <td>Alabama Power Co</td>\n",
              "      <td>AL</td>\n",
              "      <td>Bundled</td>\n",
              "      <td>Investor Owned</td>\n",
              "      <td>0.121895</td>\n",
              "      <td>0.063652</td>\n",
              "      <td>0.135057</td>\n",
              "    </tr>\n",
              "  </tbody>\n",
              "</table>\n",
              "</div>"
            ],
            "text/plain": [
              "     zip  eiaid        utility_name state service_type       ownership  \\\n",
              "0  85321    176  Ajo Improvement Co    AZ      Bundled  Investor Owned   \n",
              "1  36560    195    Alabama Power Co    AL      Bundled  Investor Owned   \n",
              "2  36513    195    Alabama Power Co    AL      Bundled  Investor Owned   \n",
              "3  36280    195    Alabama Power Co    AL      Bundled  Investor Owned   \n",
              "4  35473    195    Alabama Power Co    AL      Bundled  Investor Owned   \n",
              "\n",
              "   comm_rate  ind_rate  res_rate  \n",
              "0   0.087890  0.000000  0.093887  \n",
              "1   0.121895  0.063652  0.135057  \n",
              "2   0.121895  0.063652  0.135057  \n",
              "3   0.121895  0.063652  0.135057  \n",
              "4   0.121895  0.063652  0.135057  "
            ]
          },
          "execution_count": 10,
          "metadata": {},
          "output_type": "execute_result"
        }
      ],
      "source": [
        "import pandas as pd\n",
        "import numpy as np\n",
        "import matplotlib.pyplot as plt\n",
        "import seaborn as sns\n",
        "\n",
        "df = pd.read_csv(\"iou_zipcodes_2020.csv\")\n",
        "df.head()"
      ]
    },
    {
      "cell_type": "code",
      "execution_count": null,
      "id": "74835e7b",
      "metadata": {
        "id": "74835e7b",
        "outputId": "be943a28-20bc-405c-e53b-3c9fc18ee2e5"
      },
      "outputs": [
        {
          "name": "stdout",
          "output_type": "stream",
          "text": [
            "numpy is already installed.\n",
            "pandas is already installed.\n",
            "matplotlib is already installed.\n",
            "seaborn is already installed.\n"
          ]
        }
      ],
      "source": [
        "# Define packages you want to install\n",
        "packages = ['numpy', 'pandas', 'matplotlib', 'seaborn']\n",
        "\n",
        "# Loop through and install if missing\n",
        "for package in packages:\n",
        "    try:\n",
        "        __import__(package)\n",
        "        print(f\"{package} is already installed.\")\n",
        "    except ImportError:\n",
        "        print(f\"{package} not found. Installing...\")\n",
        "        subprocess.check_call([sys.executable, \"-m\", \"pip\", \"install\", package])\n",
        "        print(f\"{package} installed successfully.\")\n"
      ]
    }
  ],
  "metadata": {
    "language_info": {
      "name": "python"
    },
    "colab": {
      "provenance": []
    }
  },
  "nbformat": 4,
  "nbformat_minor": 5
}