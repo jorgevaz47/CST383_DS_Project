{
  "cells": [
    {
      "cell_type": "markdown",
      "id": "0yI6g1rFQBjD",
      "metadata": {
        "id": "0yI6g1rFQBjD"
      },
      "source": [
        "**Predicting Investor-Owned Electric Utilities in the U.S.**\n",
        "\n",
        "CST383 Data Science\n",
        "\n",
        "Professor Ergezer\n",
        "\n",
        "Jesus Martinez Miranda,\n",
        "\n",
        "Jorge Vazquez,\n",
        "\n",
        "Walid Elgammal,\n",
        "\n",
        "Zuhra Totakhail\n",
        "\n",
        "6/9/2025\n"
      ]
    },
    {
      "cell_type": "markdown",
      "id": "0cU9kmLW6gcR",
      "metadata": {
        "id": "0cU9kmLW6gcR"
      },
      "source": [
        "# Introduction\n",
        "The U.S. Electric Utility Companies and Rates: Look-up by Zip code (2020) includes average rates for each type of electricity by residential, commercial, and industrial categories. The dataset consists of a total of 9 columns and 28,027 rows, representing the available data as of 2020. The team aims to quantify the variation of rate in a hierarchical multivariable analysis. Some interpretation examples include answering questions such as whether specific ownership types tend to have lower rates in certain states or whether municipal utilities offer lower commercial electricity rates compared to other states, highlighting a competitive advantage and financial attractiveness. The team will work on a model that predict if an electric utility companies is owned by an investor.\n"
      ]
    },
    {
      "cell_type": "markdown",
      "id": "QxmutZFu62_i",
      "metadata": {
        "id": "QxmutZFu62_i"
      },
      "source": [
        "\n",
        "# Project Objective\n",
        "We aim to build a machine learning model to predict whether an electric utility company is investor-owned or not, using relevant numerical and categorical features from the dataset."
      ]
    },
    {
      "cell_type": "markdown",
      "id": "GQv-72w4RA5h",
      "metadata": {
        "id": "GQv-72w4RA5h"
      },
      "source": [
        "# Data Exploration"
      ]
    },
    {
      "cell_type": "code",
      "execution_count": 153,
      "id": "af5b38da",
      "metadata": {
        "id": "af5b38da"
      },
      "outputs": [],
      "source": [
        "import numpy as np\n",
        "import pandas as pd\n",
        "from scipy.stats import zscore\n",
        "from IPython.display import display, HTML\n",
        "import matplotlib.pyplot as plt\n",
        "from matplotlib import rcParams\n",
        "import seaborn as sns\n",
        "from sklearn.tree import DecisionTreeClassifier\n",
        "from sklearn.model_selection import train_test_split\n",
        "import graphviz\n",
        "from sklearn.tree import export_graphviz\n",
        "from sklearn.model_selection import GridSearchCV\n",
        "from sklearn.model_selection import cross_val_score\n",
        "from sklearn.metrics import precision_score, recall_score\n",
        "from sklearn.metrics import accuracy_score, classification_report\n",
        "from sklearn.linear_model import LinearRegression\n",
        "from sklearn.metrics import mean_squared_error\n",
        "from sklearn.preprocessing import StandardScaler\n",
        "from sklearn.neighbors import KNeighborsClassifier\n",
        "from sklearn.metrics import accuracy_score, classification_report, confusion_matrix\n",
        "from sklearn.model_selection import GridSearchCV\n",
        "from sklearn.ensemble import RandomForestClassifier\n",
        "from sklearn.naive_bayes import GaussianNB\n",
        "from sklearn.metrics import classification_report, accuracy_score\n",
        "\n",
        "\n",
        "\n",
        "\n",
        "\n",
        "\n",
        "# allow output to span multiple output lines in the console\n",
        "pd.set_option('display.max_columns', 500)\n",
        "\n",
        "# switch to seaborn default stylistic parameters\n",
        "# see the useful https://seaborn.pydata.org/tutorial/aesthetics.html\n",
        "sns.set()\n",
        "sns.set_context('paper') # 'talk' for slightly larger\n",
        "\n",
        "# change default plot size\n",
        "rcParams['figure.figsize'] = 9,7\n"
      ]
    },
    {
      "cell_type": "code",
      "execution_count": 154,
      "id": "74835e7b",
      "metadata": {
        "colab": {
          "base_uri": "https://localhost:8080/"
        },
        "id": "74835e7b",
        "outputId": "406b5d7d-d343-432a-a008-031fcfb82b25"
      },
      "outputs": [
        {
          "output_type": "stream",
          "name": "stdout",
          "text": [
            "numpy is already installed.\n",
            "pandas is already installed.\n",
            "scipy is already installed.\n",
            "matplotlib is already installed.\n",
            "seaborn is already installed.\n",
            "scikit-learn not found. Installing...\n",
            "scikit-learn installed successfully.\n",
            "graphviz is already installed.\n"
          ]
        }
      ],
      "source": [
        "import sys\n",
        "import subprocess\n",
        "\n",
        "def install(package):\n",
        "    try:\n",
        "        __import__(package)\n",
        "        print(f\"{package} is already installed.\")\n",
        "    except ImportError:\n",
        "        print(f\"{package} not found. Installing...\")\n",
        "        subprocess.check_call([sys.executable, \"-m\", \"pip\", \"install\", package])\n",
        "        print(f\"{package} installed successfully.\")\n",
        "\n",
        "# Ensure required packages are installed\n",
        "for pkg in ['numpy', 'pandas', 'scipy', 'matplotlib', 'seaborn', 'scikit-learn', 'graphviz']:\n",
        "    install(pkg)\n",
        "\n"
      ]
    },
    {
      "cell_type": "markdown",
      "id": "TYztozFuNimL",
      "metadata": {
        "id": "TYztozFuNimL"
      },
      "source": [
        "# Reading data and merging data sets"
      ]
    },
    {
      "cell_type": "code",
      "execution_count": 155,
      "id": "3tC-bvo7NoRj",
      "metadata": {
        "colab": {
          "base_uri": "https://localhost:8080/",
          "height": 595
        },
        "id": "3tC-bvo7NoRj",
        "outputId": "98fa976c-4495-4953-8b54-4de0970f22cf"
      },
      "outputs": [
        {
          "output_type": "stream",
          "name": "stdout",
          "text": [
            "(80204, 9)\n",
            "<class 'pandas.core.frame.DataFrame'>\n",
            "RangeIndex: 80204 entries, 0 to 80203\n",
            "Data columns (total 9 columns):\n",
            " #   Column        Non-Null Count  Dtype  \n",
            "---  ------        --------------  -----  \n",
            " 0   zip           80204 non-null  int64  \n",
            " 1   eiaid         80204 non-null  int64  \n",
            " 2   utility_name  80204 non-null  object \n",
            " 3   state         80204 non-null  object \n",
            " 4   service_type  80204 non-null  object \n",
            " 5   ownership     80204 non-null  object \n",
            " 6   comm_rate     80204 non-null  float64\n",
            " 7   ind_rate      80204 non-null  float64\n",
            " 8   res_rate      80204 non-null  float64\n",
            "dtypes: float64(3), int64(2), object(4)\n",
            "memory usage: 5.5+ MB\n"
          ]
        },
        {
          "output_type": "execute_result",
          "data": {
            "text/plain": [
              "                zip         eiaid     comm_rate      ind_rate      res_rate\n",
              "count  80204.000000  80204.000000  80204.000000  80204.000000  80204.000000\n",
              "mean   46426.440863  13788.970912      0.098005      0.066949      0.115826\n",
              "std    27920.227188  10680.719250      0.044314      0.044657      0.050052\n",
              "min      501.000000     55.000000      0.000000      0.000000      0.000000\n",
              "25%    21657.000000   6422.000000      0.078465      0.045736      0.097577\n",
              "50%    44398.000000  13573.000000      0.098762      0.064780      0.115913\n",
              "75%    67954.000000  17066.000000      0.118236      0.082462      0.135057\n",
              "max    99950.000000  57483.000000      0.700000      0.650000      0.500285"
            ],
            "text/html": [
              "\n",
              "  <div id=\"df-54ba2c5c-ec5f-4b55-ba7f-16db7dde61b6\" class=\"colab-df-container\">\n",
              "    <div>\n",
              "<style scoped>\n",
              "    .dataframe tbody tr th:only-of-type {\n",
              "        vertical-align: middle;\n",
              "    }\n",
              "\n",
              "    .dataframe tbody tr th {\n",
              "        vertical-align: top;\n",
              "    }\n",
              "\n",
              "    .dataframe thead th {\n",
              "        text-align: right;\n",
              "    }\n",
              "</style>\n",
              "<table border=\"1\" class=\"dataframe\">\n",
              "  <thead>\n",
              "    <tr style=\"text-align: right;\">\n",
              "      <th></th>\n",
              "      <th>zip</th>\n",
              "      <th>eiaid</th>\n",
              "      <th>comm_rate</th>\n",
              "      <th>ind_rate</th>\n",
              "      <th>res_rate</th>\n",
              "    </tr>\n",
              "  </thead>\n",
              "  <tbody>\n",
              "    <tr>\n",
              "      <th>count</th>\n",
              "      <td>80204.000000</td>\n",
              "      <td>80204.000000</td>\n",
              "      <td>80204.000000</td>\n",
              "      <td>80204.000000</td>\n",
              "      <td>80204.000000</td>\n",
              "    </tr>\n",
              "    <tr>\n",
              "      <th>mean</th>\n",
              "      <td>46426.440863</td>\n",
              "      <td>13788.970912</td>\n",
              "      <td>0.098005</td>\n",
              "      <td>0.066949</td>\n",
              "      <td>0.115826</td>\n",
              "    </tr>\n",
              "    <tr>\n",
              "      <th>std</th>\n",
              "      <td>27920.227188</td>\n",
              "      <td>10680.719250</td>\n",
              "      <td>0.044314</td>\n",
              "      <td>0.044657</td>\n",
              "      <td>0.050052</td>\n",
              "    </tr>\n",
              "    <tr>\n",
              "      <th>min</th>\n",
              "      <td>501.000000</td>\n",
              "      <td>55.000000</td>\n",
              "      <td>0.000000</td>\n",
              "      <td>0.000000</td>\n",
              "      <td>0.000000</td>\n",
              "    </tr>\n",
              "    <tr>\n",
              "      <th>25%</th>\n",
              "      <td>21657.000000</td>\n",
              "      <td>6422.000000</td>\n",
              "      <td>0.078465</td>\n",
              "      <td>0.045736</td>\n",
              "      <td>0.097577</td>\n",
              "    </tr>\n",
              "    <tr>\n",
              "      <th>50%</th>\n",
              "      <td>44398.000000</td>\n",
              "      <td>13573.000000</td>\n",
              "      <td>0.098762</td>\n",
              "      <td>0.064780</td>\n",
              "      <td>0.115913</td>\n",
              "    </tr>\n",
              "    <tr>\n",
              "      <th>75%</th>\n",
              "      <td>67954.000000</td>\n",
              "      <td>17066.000000</td>\n",
              "      <td>0.118236</td>\n",
              "      <td>0.082462</td>\n",
              "      <td>0.135057</td>\n",
              "    </tr>\n",
              "    <tr>\n",
              "      <th>max</th>\n",
              "      <td>99950.000000</td>\n",
              "      <td>57483.000000</td>\n",
              "      <td>0.700000</td>\n",
              "      <td>0.650000</td>\n",
              "      <td>0.500285</td>\n",
              "    </tr>\n",
              "  </tbody>\n",
              "</table>\n",
              "</div>\n",
              "    <div class=\"colab-df-buttons\">\n",
              "\n",
              "  <div class=\"colab-df-container\">\n",
              "    <button class=\"colab-df-convert\" onclick=\"convertToInteractive('df-54ba2c5c-ec5f-4b55-ba7f-16db7dde61b6')\"\n",
              "            title=\"Convert this dataframe to an interactive table.\"\n",
              "            style=\"display:none;\">\n",
              "\n",
              "  <svg xmlns=\"http://www.w3.org/2000/svg\" height=\"24px\" viewBox=\"0 -960 960 960\">\n",
              "    <path d=\"M120-120v-720h720v720H120Zm60-500h600v-160H180v160Zm220 220h160v-160H400v160Zm0 220h160v-160H400v160ZM180-400h160v-160H180v160Zm440 0h160v-160H620v160ZM180-180h160v-160H180v160Zm440 0h160v-160H620v160Z\"/>\n",
              "  </svg>\n",
              "    </button>\n",
              "\n",
              "  <style>\n",
              "    .colab-df-container {\n",
              "      display:flex;\n",
              "      gap: 12px;\n",
              "    }\n",
              "\n",
              "    .colab-df-convert {\n",
              "      background-color: #E8F0FE;\n",
              "      border: none;\n",
              "      border-radius: 50%;\n",
              "      cursor: pointer;\n",
              "      display: none;\n",
              "      fill: #1967D2;\n",
              "      height: 32px;\n",
              "      padding: 0 0 0 0;\n",
              "      width: 32px;\n",
              "    }\n",
              "\n",
              "    .colab-df-convert:hover {\n",
              "      background-color: #E2EBFA;\n",
              "      box-shadow: 0px 1px 2px rgba(60, 64, 67, 0.3), 0px 1px 3px 1px rgba(60, 64, 67, 0.15);\n",
              "      fill: #174EA6;\n",
              "    }\n",
              "\n",
              "    .colab-df-buttons div {\n",
              "      margin-bottom: 4px;\n",
              "    }\n",
              "\n",
              "    [theme=dark] .colab-df-convert {\n",
              "      background-color: #3B4455;\n",
              "      fill: #D2E3FC;\n",
              "    }\n",
              "\n",
              "    [theme=dark] .colab-df-convert:hover {\n",
              "      background-color: #434B5C;\n",
              "      box-shadow: 0px 1px 3px 1px rgba(0, 0, 0, 0.15);\n",
              "      filter: drop-shadow(0px 1px 2px rgba(0, 0, 0, 0.3));\n",
              "      fill: #FFFFFF;\n",
              "    }\n",
              "  </style>\n",
              "\n",
              "    <script>\n",
              "      const buttonEl =\n",
              "        document.querySelector('#df-54ba2c5c-ec5f-4b55-ba7f-16db7dde61b6 button.colab-df-convert');\n",
              "      buttonEl.style.display =\n",
              "        google.colab.kernel.accessAllowed ? 'block' : 'none';\n",
              "\n",
              "      async function convertToInteractive(key) {\n",
              "        const element = document.querySelector('#df-54ba2c5c-ec5f-4b55-ba7f-16db7dde61b6');\n",
              "        const dataTable =\n",
              "          await google.colab.kernel.invokeFunction('convertToInteractive',\n",
              "                                                    [key], {});\n",
              "        if (!dataTable) return;\n",
              "\n",
              "        const docLinkHtml = 'Like what you see? Visit the ' +\n",
              "          '<a target=\"_blank\" href=https://colab.research.google.com/notebooks/data_table.ipynb>data table notebook</a>'\n",
              "          + ' to learn more about interactive tables.';\n",
              "        element.innerHTML = '';\n",
              "        dataTable['output_type'] = 'display_data';\n",
              "        await google.colab.output.renderOutput(dataTable, element);\n",
              "        const docLink = document.createElement('div');\n",
              "        docLink.innerHTML = docLinkHtml;\n",
              "        element.appendChild(docLink);\n",
              "      }\n",
              "    </script>\n",
              "  </div>\n",
              "\n",
              "\n",
              "    <div id=\"df-b7b2adf4-64fa-4993-8906-150beb147079\">\n",
              "      <button class=\"colab-df-quickchart\" onclick=\"quickchart('df-b7b2adf4-64fa-4993-8906-150beb147079')\"\n",
              "                title=\"Suggest charts\"\n",
              "                style=\"display:none;\">\n",
              "\n",
              "<svg xmlns=\"http://www.w3.org/2000/svg\" height=\"24px\"viewBox=\"0 0 24 24\"\n",
              "     width=\"24px\">\n",
              "    <g>\n",
              "        <path d=\"M19 3H5c-1.1 0-2 .9-2 2v14c0 1.1.9 2 2 2h14c1.1 0 2-.9 2-2V5c0-1.1-.9-2-2-2zM9 17H7v-7h2v7zm4 0h-2V7h2v10zm4 0h-2v-4h2v4z\"/>\n",
              "    </g>\n",
              "</svg>\n",
              "      </button>\n",
              "\n",
              "<style>\n",
              "  .colab-df-quickchart {\n",
              "      --bg-color: #E8F0FE;\n",
              "      --fill-color: #1967D2;\n",
              "      --hover-bg-color: #E2EBFA;\n",
              "      --hover-fill-color: #174EA6;\n",
              "      --disabled-fill-color: #AAA;\n",
              "      --disabled-bg-color: #DDD;\n",
              "  }\n",
              "\n",
              "  [theme=dark] .colab-df-quickchart {\n",
              "      --bg-color: #3B4455;\n",
              "      --fill-color: #D2E3FC;\n",
              "      --hover-bg-color: #434B5C;\n",
              "      --hover-fill-color: #FFFFFF;\n",
              "      --disabled-bg-color: #3B4455;\n",
              "      --disabled-fill-color: #666;\n",
              "  }\n",
              "\n",
              "  .colab-df-quickchart {\n",
              "    background-color: var(--bg-color);\n",
              "    border: none;\n",
              "    border-radius: 50%;\n",
              "    cursor: pointer;\n",
              "    display: none;\n",
              "    fill: var(--fill-color);\n",
              "    height: 32px;\n",
              "    padding: 0;\n",
              "    width: 32px;\n",
              "  }\n",
              "\n",
              "  .colab-df-quickchart:hover {\n",
              "    background-color: var(--hover-bg-color);\n",
              "    box-shadow: 0 1px 2px rgba(60, 64, 67, 0.3), 0 1px 3px 1px rgba(60, 64, 67, 0.15);\n",
              "    fill: var(--button-hover-fill-color);\n",
              "  }\n",
              "\n",
              "  .colab-df-quickchart-complete:disabled,\n",
              "  .colab-df-quickchart-complete:disabled:hover {\n",
              "    background-color: var(--disabled-bg-color);\n",
              "    fill: var(--disabled-fill-color);\n",
              "    box-shadow: none;\n",
              "  }\n",
              "\n",
              "  .colab-df-spinner {\n",
              "    border: 2px solid var(--fill-color);\n",
              "    border-color: transparent;\n",
              "    border-bottom-color: var(--fill-color);\n",
              "    animation:\n",
              "      spin 1s steps(1) infinite;\n",
              "  }\n",
              "\n",
              "  @keyframes spin {\n",
              "    0% {\n",
              "      border-color: transparent;\n",
              "      border-bottom-color: var(--fill-color);\n",
              "      border-left-color: var(--fill-color);\n",
              "    }\n",
              "    20% {\n",
              "      border-color: transparent;\n",
              "      border-left-color: var(--fill-color);\n",
              "      border-top-color: var(--fill-color);\n",
              "    }\n",
              "    30% {\n",
              "      border-color: transparent;\n",
              "      border-left-color: var(--fill-color);\n",
              "      border-top-color: var(--fill-color);\n",
              "      border-right-color: var(--fill-color);\n",
              "    }\n",
              "    40% {\n",
              "      border-color: transparent;\n",
              "      border-right-color: var(--fill-color);\n",
              "      border-top-color: var(--fill-color);\n",
              "    }\n",
              "    60% {\n",
              "      border-color: transparent;\n",
              "      border-right-color: var(--fill-color);\n",
              "    }\n",
              "    80% {\n",
              "      border-color: transparent;\n",
              "      border-right-color: var(--fill-color);\n",
              "      border-bottom-color: var(--fill-color);\n",
              "    }\n",
              "    90% {\n",
              "      border-color: transparent;\n",
              "      border-bottom-color: var(--fill-color);\n",
              "    }\n",
              "  }\n",
              "</style>\n",
              "\n",
              "      <script>\n",
              "        async function quickchart(key) {\n",
              "          const quickchartButtonEl =\n",
              "            document.querySelector('#' + key + ' button');\n",
              "          quickchartButtonEl.disabled = true;  // To prevent multiple clicks.\n",
              "          quickchartButtonEl.classList.add('colab-df-spinner');\n",
              "          try {\n",
              "            const charts = await google.colab.kernel.invokeFunction(\n",
              "                'suggestCharts', [key], {});\n",
              "          } catch (error) {\n",
              "            console.error('Error during call to suggestCharts:', error);\n",
              "          }\n",
              "          quickchartButtonEl.classList.remove('colab-df-spinner');\n",
              "          quickchartButtonEl.classList.add('colab-df-quickchart-complete');\n",
              "        }\n",
              "        (() => {\n",
              "          let quickchartButtonEl =\n",
              "            document.querySelector('#df-b7b2adf4-64fa-4993-8906-150beb147079 button');\n",
              "          quickchartButtonEl.style.display =\n",
              "            google.colab.kernel.accessAllowed ? 'block' : 'none';\n",
              "        })();\n",
              "      </script>\n",
              "    </div>\n",
              "\n",
              "    </div>\n",
              "  </div>\n"
            ],
            "application/vnd.google.colaboratory.intrinsic+json": {
              "type": "dataframe",
              "summary": "{\n  \"name\": \"df\",\n  \"rows\": 8,\n  \"fields\": [\n    {\n      \"column\": \"zip\",\n      \"properties\": {\n        \"dtype\": \"number\",\n        \"std\": 32731.985888057287,\n        \"min\": 501.0,\n        \"max\": 99950.0,\n        \"num_unique_values\": 8,\n        \"samples\": [\n          46426.44086329859,\n          44398.0,\n          80204.0\n        ],\n        \"semantic_type\": \"\",\n        \"description\": \"\"\n      }\n    },\n    {\n      \"column\": \"eiaid\",\n      \"properties\": {\n        \"dtype\": \"number\",\n        \"std\": 28269.644373361596,\n        \"min\": 55.0,\n        \"max\": 80204.0,\n        \"num_unique_values\": 8,\n        \"samples\": [\n          13788.970911675227,\n          13573.0,\n          80204.0\n        ],\n        \"semantic_type\": \"\",\n        \"description\": \"\"\n      }\n    },\n    {\n      \"column\": \"comm_rate\",\n      \"properties\": {\n        \"dtype\": \"number\",\n        \"std\": 28356.338673389804,\n        \"min\": 0.0,\n        \"max\": 80204.0,\n        \"num_unique_values\": 8,\n        \"samples\": [\n          0.09800509388782595,\n          0.0987615078746962,\n          80204.0\n        ],\n        \"semantic_type\": \"\",\n        \"description\": \"\"\n      }\n    },\n    {\n      \"column\": \"ind_rate\",\n      \"properties\": {\n        \"dtype\": \"number\",\n        \"std\": 28356.347926102888,\n        \"min\": 0.0,\n        \"max\": 80204.0,\n        \"num_unique_values\": 8,\n        \"samples\": [\n          0.06694896705167193,\n          0.0647803793659335,\n          80204.0\n        ],\n        \"semantic_type\": \"\",\n        \"description\": \"\"\n      }\n    },\n    {\n      \"column\": \"res_rate\",\n      \"properties\": {\n        \"dtype\": \"number\",\n        \"std\": 28356.344888936048,\n        \"min\": 0.0,\n        \"max\": 80204.0,\n        \"num_unique_values\": 8,\n        \"samples\": [\n          0.11582597853918589,\n          0.1159130729701701,\n          80204.0\n        ],\n        \"semantic_type\": \"\",\n        \"description\": \"\"\n      }\n    }\n  ]\n}"
            }
          },
          "metadata": {},
          "execution_count": 155
        }
      ],
      "source": [
        "url1 = \"https://raw.githubusercontent.com/jorgevaz47/CST383_DS_Project/working_walid/data/iou_zipcodes_2020.csv\"\n",
        "url2 = \"https://raw.githubusercontent.com/jorgevaz47/CST383_DS_Project/working_walid/data/non_iou_zipcodes_2020.csv\"\n",
        "\n",
        "df1 = pd.read_csv(url1)\n",
        "df2 = pd.read_csv(url2)\n",
        "\n",
        "df = pd.concat([df1, df2], ignore_index=True)\n",
        "print(df.shape)\n",
        "df.info()\n",
        "df.describe()"
      ]
    },
    {
      "cell_type": "markdown",
      "id": "zPUWJaTg6sfj",
      "metadata": {
        "id": "zPUWJaTg6sfj"
      },
      "source": [
        "# Dataset Description\n",
        "The dataset is from data.gov and was compiled by the National Renewable Energy Laboratory (NREL) using data from ABB, the Velocity Suite, and the U.S. Energy Information Administration’s Form 861. It includes information about utility names, ownership type, residential/commercial rates, number of customers, and zip codes.\n",
        "\n"
      ]
    },
    {
      "cell_type": "markdown",
      "id": "wIbAA1eri-zH",
      "metadata": {
        "id": "wIbAA1eri-zH"
      },
      "source": [
        "<table border=\"1\" style=\"border-collapse: collapse; width: 100%;\">\n",
        "  <thead>\n",
        "    <tr>\n",
        "      <th style=\"padding: 8px; text-align: left;\">Column Name</th>\n",
        "      <th style=\"padding: 8px; text-align: left;\">Description</th>\n",
        "    </tr>\n",
        "  </thead>\n",
        "  <tbody>\n",
        "    <tr>\n",
        "      <td style=\"padding: 8px;\">zip</td>\n",
        "      <td style=\"padding: 8px;\">5-digit ZIP code representing the geographic area of the utility service</td>\n",
        "    </tr>\n",
        "    <tr>\n",
        "      <td style=\"padding: 8px;\">eiaid</td>\n",
        "      <td style=\"padding: 8px;\">Unique identifier for the utility company from the Energy Information Administration (EIA)</td>\n",
        "    </tr>\n",
        "    <tr>\n",
        "      <td style=\"padding: 8px;\">utility_name</td>\n",
        "      <td style=\"padding: 8px;\">Name of the electric utility company serving the ZIP code</td>\n",
        "    </tr>\n",
        "    <tr>\n",
        "      <td style=\"padding: 8px;\">state</td>\n",
        "      <td style=\"padding: 8px;\">U.S. state abbreviation where the ZIP code and utility are located</td>\n",
        "    </tr>\n",
        "    <tr>\n",
        "      <td style=\"padding: 8px;\">service_type</td>\n",
        "      <td style=\"padding: 8px;\">Type of customer service: residential, commercial, or industrial</td>\n",
        "    </tr>\n",
        "    <tr>\n",
        "      <td style=\"padding: 8px;\">ownership</td>\n",
        "      <td style=\"padding: 8px;\">Ownership category of the utility, e.g., municipal, investor-owned, cooperative</td>\n",
        "    </tr>\n",
        "    <tr>\n",
        "      <td style=\"padding: 8px;\">comm_rate</td>\n",
        "      <td style=\"padding: 8px;\">Average commercial electricity rate charged by the utility (cents per kWh)</td>\n",
        "    </tr>\n",
        "    <tr>\n",
        "      <td style=\"padding: 8px;\">ind_rate</td>\n",
        "      <td style=\"padding: 8px;\">Average industrial electricity rate charged by the utility (cents per kWh)</td>\n",
        "    </tr>\n",
        "    <tr>\n",
        "      <td style=\"padding: 8px;\">res_rate</td>\n",
        "      <td style=\"padding: 8px;\">Average residential electricity rate charged by the utility (cents per kWh)</td>\n",
        "    </tr>\n",
        "  </tbody>\n",
        "</table>\n"
      ]
    },
    {
      "cell_type": "markdown",
      "id": "dbeRCdeukics",
      "metadata": {
        "id": "dbeRCdeukics"
      },
      "source": [
        "# Missing Data\n",
        "We noticed that no data is missing from the sets."
      ]
    },
    {
      "cell_type": "code",
      "execution_count": 156,
      "id": "x1VoEkY8knzA",
      "metadata": {
        "colab": {
          "base_uri": "https://localhost:8080/"
        },
        "id": "x1VoEkY8knzA",
        "outputId": "be041064-ab54-473a-c890-a913fc586937"
      },
      "outputs": [
        {
          "output_type": "stream",
          "name": "stdout",
          "text": [
            "zip             0\n",
            "eiaid           0\n",
            "utility_name    0\n",
            "state           0\n",
            "service_type    0\n",
            "ownership       0\n",
            "comm_rate       0\n",
            "ind_rate        0\n",
            "res_rate        0\n",
            "dtype: int64\n"
          ]
        }
      ],
      "source": [
        "print(df.isnull().sum())\n"
      ]
    },
    {
      "cell_type": "markdown",
      "id": "QLd9vyXDmRar",
      "metadata": {
        "id": "QLd9vyXDmRar"
      },
      "source": [
        "**Discovering the count of rows with all zero values**"
      ]
    },
    {
      "cell_type": "code",
      "execution_count": 157,
      "id": "ycVNv1L4mTQZ",
      "metadata": {
        "colab": {
          "base_uri": "https://localhost:8080/"
        },
        "id": "ycVNv1L4mTQZ",
        "outputId": "37270cd8-b618-4884-c651-500bf2de754c"
      },
      "outputs": [
        {
          "output_type": "stream",
          "name": "stdout",
          "text": [
            "Zero values per column:\n",
            "comm_rate     183\n",
            "ind_rate     3387\n",
            "res_rate     4841\n",
            "dtype: int64\n",
            "Rows where both ind_rate and res_rate are zero: 234\n"
          ]
        }
      ],
      "source": [
        "print(\"Zero values per column:\")\n",
        "print((df[['comm_rate', 'ind_rate', 'res_rate']] == 0).sum())\n",
        "both_zero = ((df['ind_rate'] == 0) & (df['res_rate'] == 0)).sum()\n",
        "print(f\"Rows where both ind_rate and res_rate are zero: {both_zero}\")"
      ]
    },
    {
      "cell_type": "markdown",
      "id": "q5mlW8qImdb-",
      "metadata": {
        "id": "q5mlW8qImdb-"
      },
      "source": [
        "**what is the percentage of rows with zero values among the three rate columns**"
      ]
    },
    {
      "cell_type": "code",
      "execution_count": 158,
      "id": "HZ2Wg9ycmf3N",
      "metadata": {
        "colab": {
          "base_uri": "https://localhost:8080/"
        },
        "id": "HZ2Wg9ycmf3N",
        "outputId": "9acc222e-8c8d-463e-d3b8-6aac6e13dd52"
      },
      "outputs": [
        {
          "output_type": "stream",
          "name": "stdout",
          "text": [
            "Rows with at least one zero: 8100 (10.10%)\n"
          ]
        }
      ],
      "source": [
        "zero_rows = (df[['comm_rate', 'ind_rate', 'res_rate']] == 0).any(axis=1).sum()\n",
        "total_rows = len(df)\n",
        "\n",
        "percentage = 100 * zero_rows / total_rows\n",
        "print(f\"Rows with at least one zero: {zero_rows} ({percentage:.2f}%)\")"
      ]
    },
    {
      "cell_type": "markdown",
      "id": "DyWHjK0DhdbG",
      "metadata": {
        "id": "DyWHjK0DhdbG"
      },
      "source": []
    },
    {
      "cell_type": "markdown",
      "id": "n0dwrEabnkeP",
      "metadata": {
        "id": "n0dwrEabnkeP"
      },
      "source": [
        "# Features Selection\n",
        "The dataset was compiled from two sources, covering both investor-owned utilities (IOUs) and non-investor-owned utilities. According to the publisher, the National Renewable Energy Laboratory (NREL), the files include average rates for each utility—not average rates per ZIP code. The combined dataset contains 80,204 rows and 9 features.\n",
        "There are three true numeric features: comm_rate, ind_rate, and res_rate (see Table 1-1). While the ZIP code is stored as a numeric value, it represents a categorical location code. Similarly, eiaid is an arbitrary identifier and does not carry meaningful magnitude or order.\n",
        "For this project, we drop both eiaid and utility_name, as they do not provide meaningful predictive information. Instead, we focus on comm_rate, ind_rate, res_rate, and service_type as predictors. These selected features are complete and contain no missing values. Additionally, we exclude ZIP codes due to their complexity and limited predictive value in Machine Learning model.\n",
        "\n",
        "README Updated"
      ]
    },
    {
      "cell_type": "markdown",
      "id": "dm0m_Upp5DGX",
      "metadata": {
        "id": "dm0m_Upp5DGX"
      },
      "source": [
        "# Data Preprocessing"
      ]
    },
    {
      "cell_type": "markdown",
      "id": "bxo8qy_Ymtie",
      "metadata": {
        "id": "bxo8qy_Ymtie"
      },
      "source": [
        "**Drop all rows where any of the three rate columns is zero:**"
      ]
    },
    {
      "cell_type": "code",
      "execution_count": 159,
      "id": "CSInOvuOmvgw",
      "metadata": {
        "colab": {
          "base_uri": "https://localhost:8080/"
        },
        "id": "CSInOvuOmvgw",
        "outputId": "fea468a2-5aef-4445-dcd8-f56a472d6cb3"
      },
      "outputs": [
        {
          "output_type": "stream",
          "name": "stdout",
          "text": [
            "Remaining rows: 72104\n"
          ]
        }
      ],
      "source": [
        "df = df[~(df[['comm_rate', 'ind_rate', 'res_rate']] == 0).any(axis=1)]\n",
        "print(f\"Remaining rows: {len(df)}\")"
      ]
    },
    {
      "cell_type": "code",
      "execution_count": 160,
      "id": "bed3qhja5IXE",
      "metadata": {
        "id": "bed3qhja5IXE",
        "colab": {
          "base_uri": "https://localhost:8080/"
        },
        "outputId": "57220f3e-9b90-4a79-d799-8bf0bb6c5ace"
      },
      "outputs": [
        {
          "output_type": "stream",
          "name": "stderr",
          "text": [
            "<ipython-input-160-2351692478>:1: SettingWithCopyWarning: \n",
            "A value is trying to be set on a copy of a slice from a DataFrame\n",
            "\n",
            "See the caveats in the documentation: https://pandas.pydata.org/pandas-docs/stable/user_guide/indexing.html#returning-a-view-versus-a-copy\n",
            "  df.drop(columns=[\"zip\", \"eiaid\"], inplace=True)\n"
          ]
        }
      ],
      "source": [
        "df.drop(columns=[\"zip\", \"eiaid\"], inplace=True)"
      ]
    },
    {
      "cell_type": "code",
      "execution_count": 161,
      "id": "d0c9062d-1afb-4208-b434-266979dc6b5c",
      "metadata": {
        "colab": {
          "base_uri": "https://localhost:8080/"
        },
        "id": "d0c9062d-1afb-4208-b434-266979dc6b5c",
        "outputId": "d14d058e-33a0-46a3-d4c5-dc5bbd5c501c"
      },
      "outputs": [
        {
          "output_type": "stream",
          "name": "stdout",
          "text": [
            "Percent of data dropped due to entry of 0: 0.00%\n"
          ]
        }
      ],
      "source": [
        "indices = np.where((df[\"comm_rate\"] == 0) | (df[\"ind_rate\"] == 0) | (df[\"res_rate\"] == 0))[0]\n",
        "mask = np.isin(df.index, indices)\n",
        "print(f\"Percent of data dropped due to entry of 0: {((df[mask].shape[0] / df.shape[0])*100):.2f}%\")"
      ]
    },
    {
      "cell_type": "markdown",
      "id": "Sh5ZCxvC5n1B",
      "metadata": {
        "id": "Sh5ZCxvC5n1B"
      },
      "source": [
        "We have taken a note that some of the data entries contain 0 as their value for one of the rates. We are not certain, but this likely means that the provider did not provide for that specific client group such as industry, residential, or cmmercial. After some preprocessing, it was noted that we would lose about 10% of our data set if we dropped all the rows that contain a 0 in either of those fields. For now, we will be dropping them since our dataset is still very large. We can reintroduce them if we note some issues with our dataset, but we will have to introduce a way to handle the 0 values"
      ]
    },
    {
      "cell_type": "code",
      "execution_count": 162,
      "id": "bb85abd5-92e1-44e1-9700-8613f5a7b31e",
      "metadata": {
        "colab": {
          "base_uri": "https://localhost:8080/",
          "height": 206
        },
        "id": "bb85abd5-92e1-44e1-9700-8613f5a7b31e",
        "outputId": "272e5734-50b3-4e2b-dbfc-e51213c9f511"
      },
      "outputs": [
        {
          "output_type": "execute_result",
          "data": {
            "text/plain": [
              "       utility_name state       ownership  comm_rate  ind_rate  res_rate  \\\n",
              "1  Alabama Power Co    AL  Investor Owned   0.121895  0.063652  0.135057   \n",
              "2  Alabama Power Co    AL  Investor Owned   0.121895  0.063652  0.135057   \n",
              "3  Alabama Power Co    AL  Investor Owned   0.121895  0.063652  0.135057   \n",
              "4  Alabama Power Co    AL  Investor Owned   0.121895  0.063652  0.135057   \n",
              "5  Alabama Power Co    AL  Investor Owned   0.121895  0.063652  0.135057   \n",
              "\n",
              "   service_type_Bundled  service_type_Delivery  \n",
              "1                  True                  False  \n",
              "2                  True                  False  \n",
              "3                  True                  False  \n",
              "4                  True                  False  \n",
              "5                  True                  False  "
            ],
            "text/html": [
              "\n",
              "  <div id=\"df-e26844d6-0556-44ec-820b-95018026641e\" class=\"colab-df-container\">\n",
              "    <div>\n",
              "<style scoped>\n",
              "    .dataframe tbody tr th:only-of-type {\n",
              "        vertical-align: middle;\n",
              "    }\n",
              "\n",
              "    .dataframe tbody tr th {\n",
              "        vertical-align: top;\n",
              "    }\n",
              "\n",
              "    .dataframe thead th {\n",
              "        text-align: right;\n",
              "    }\n",
              "</style>\n",
              "<table border=\"1\" class=\"dataframe\">\n",
              "  <thead>\n",
              "    <tr style=\"text-align: right;\">\n",
              "      <th></th>\n",
              "      <th>utility_name</th>\n",
              "      <th>state</th>\n",
              "      <th>ownership</th>\n",
              "      <th>comm_rate</th>\n",
              "      <th>ind_rate</th>\n",
              "      <th>res_rate</th>\n",
              "      <th>service_type_Bundled</th>\n",
              "      <th>service_type_Delivery</th>\n",
              "    </tr>\n",
              "  </thead>\n",
              "  <tbody>\n",
              "    <tr>\n",
              "      <th>1</th>\n",
              "      <td>Alabama Power Co</td>\n",
              "      <td>AL</td>\n",
              "      <td>Investor Owned</td>\n",
              "      <td>0.121895</td>\n",
              "      <td>0.063652</td>\n",
              "      <td>0.135057</td>\n",
              "      <td>True</td>\n",
              "      <td>False</td>\n",
              "    </tr>\n",
              "    <tr>\n",
              "      <th>2</th>\n",
              "      <td>Alabama Power Co</td>\n",
              "      <td>AL</td>\n",
              "      <td>Investor Owned</td>\n",
              "      <td>0.121895</td>\n",
              "      <td>0.063652</td>\n",
              "      <td>0.135057</td>\n",
              "      <td>True</td>\n",
              "      <td>False</td>\n",
              "    </tr>\n",
              "    <tr>\n",
              "      <th>3</th>\n",
              "      <td>Alabama Power Co</td>\n",
              "      <td>AL</td>\n",
              "      <td>Investor Owned</td>\n",
              "      <td>0.121895</td>\n",
              "      <td>0.063652</td>\n",
              "      <td>0.135057</td>\n",
              "      <td>True</td>\n",
              "      <td>False</td>\n",
              "    </tr>\n",
              "    <tr>\n",
              "      <th>4</th>\n",
              "      <td>Alabama Power Co</td>\n",
              "      <td>AL</td>\n",
              "      <td>Investor Owned</td>\n",
              "      <td>0.121895</td>\n",
              "      <td>0.063652</td>\n",
              "      <td>0.135057</td>\n",
              "      <td>True</td>\n",
              "      <td>False</td>\n",
              "    </tr>\n",
              "    <tr>\n",
              "      <th>5</th>\n",
              "      <td>Alabama Power Co</td>\n",
              "      <td>AL</td>\n",
              "      <td>Investor Owned</td>\n",
              "      <td>0.121895</td>\n",
              "      <td>0.063652</td>\n",
              "      <td>0.135057</td>\n",
              "      <td>True</td>\n",
              "      <td>False</td>\n",
              "    </tr>\n",
              "  </tbody>\n",
              "</table>\n",
              "</div>\n",
              "    <div class=\"colab-df-buttons\">\n",
              "\n",
              "  <div class=\"colab-df-container\">\n",
              "    <button class=\"colab-df-convert\" onclick=\"convertToInteractive('df-e26844d6-0556-44ec-820b-95018026641e')\"\n",
              "            title=\"Convert this dataframe to an interactive table.\"\n",
              "            style=\"display:none;\">\n",
              "\n",
              "  <svg xmlns=\"http://www.w3.org/2000/svg\" height=\"24px\" viewBox=\"0 -960 960 960\">\n",
              "    <path d=\"M120-120v-720h720v720H120Zm60-500h600v-160H180v160Zm220 220h160v-160H400v160Zm0 220h160v-160H400v160ZM180-400h160v-160H180v160Zm440 0h160v-160H620v160ZM180-180h160v-160H180v160Zm440 0h160v-160H620v160Z\"/>\n",
              "  </svg>\n",
              "    </button>\n",
              "\n",
              "  <style>\n",
              "    .colab-df-container {\n",
              "      display:flex;\n",
              "      gap: 12px;\n",
              "    }\n",
              "\n",
              "    .colab-df-convert {\n",
              "      background-color: #E8F0FE;\n",
              "      border: none;\n",
              "      border-radius: 50%;\n",
              "      cursor: pointer;\n",
              "      display: none;\n",
              "      fill: #1967D2;\n",
              "      height: 32px;\n",
              "      padding: 0 0 0 0;\n",
              "      width: 32px;\n",
              "    }\n",
              "\n",
              "    .colab-df-convert:hover {\n",
              "      background-color: #E2EBFA;\n",
              "      box-shadow: 0px 1px 2px rgba(60, 64, 67, 0.3), 0px 1px 3px 1px rgba(60, 64, 67, 0.15);\n",
              "      fill: #174EA6;\n",
              "    }\n",
              "\n",
              "    .colab-df-buttons div {\n",
              "      margin-bottom: 4px;\n",
              "    }\n",
              "\n",
              "    [theme=dark] .colab-df-convert {\n",
              "      background-color: #3B4455;\n",
              "      fill: #D2E3FC;\n",
              "    }\n",
              "\n",
              "    [theme=dark] .colab-df-convert:hover {\n",
              "      background-color: #434B5C;\n",
              "      box-shadow: 0px 1px 3px 1px rgba(0, 0, 0, 0.15);\n",
              "      filter: drop-shadow(0px 1px 2px rgba(0, 0, 0, 0.3));\n",
              "      fill: #FFFFFF;\n",
              "    }\n",
              "  </style>\n",
              "\n",
              "    <script>\n",
              "      const buttonEl =\n",
              "        document.querySelector('#df-e26844d6-0556-44ec-820b-95018026641e button.colab-df-convert');\n",
              "      buttonEl.style.display =\n",
              "        google.colab.kernel.accessAllowed ? 'block' : 'none';\n",
              "\n",
              "      async function convertToInteractive(key) {\n",
              "        const element = document.querySelector('#df-e26844d6-0556-44ec-820b-95018026641e');\n",
              "        const dataTable =\n",
              "          await google.colab.kernel.invokeFunction('convertToInteractive',\n",
              "                                                    [key], {});\n",
              "        if (!dataTable) return;\n",
              "\n",
              "        const docLinkHtml = 'Like what you see? Visit the ' +\n",
              "          '<a target=\"_blank\" href=https://colab.research.google.com/notebooks/data_table.ipynb>data table notebook</a>'\n",
              "          + ' to learn more about interactive tables.';\n",
              "        element.innerHTML = '';\n",
              "        dataTable['output_type'] = 'display_data';\n",
              "        await google.colab.output.renderOutput(dataTable, element);\n",
              "        const docLink = document.createElement('div');\n",
              "        docLink.innerHTML = docLinkHtml;\n",
              "        element.appendChild(docLink);\n",
              "      }\n",
              "    </script>\n",
              "  </div>\n",
              "\n",
              "\n",
              "    <div id=\"df-a44857f9-c9f6-4404-827b-322ac9e1a557\">\n",
              "      <button class=\"colab-df-quickchart\" onclick=\"quickchart('df-a44857f9-c9f6-4404-827b-322ac9e1a557')\"\n",
              "                title=\"Suggest charts\"\n",
              "                style=\"display:none;\">\n",
              "\n",
              "<svg xmlns=\"http://www.w3.org/2000/svg\" height=\"24px\"viewBox=\"0 0 24 24\"\n",
              "     width=\"24px\">\n",
              "    <g>\n",
              "        <path d=\"M19 3H5c-1.1 0-2 .9-2 2v14c0 1.1.9 2 2 2h14c1.1 0 2-.9 2-2V5c0-1.1-.9-2-2-2zM9 17H7v-7h2v7zm4 0h-2V7h2v10zm4 0h-2v-4h2v4z\"/>\n",
              "    </g>\n",
              "</svg>\n",
              "      </button>\n",
              "\n",
              "<style>\n",
              "  .colab-df-quickchart {\n",
              "      --bg-color: #E8F0FE;\n",
              "      --fill-color: #1967D2;\n",
              "      --hover-bg-color: #E2EBFA;\n",
              "      --hover-fill-color: #174EA6;\n",
              "      --disabled-fill-color: #AAA;\n",
              "      --disabled-bg-color: #DDD;\n",
              "  }\n",
              "\n",
              "  [theme=dark] .colab-df-quickchart {\n",
              "      --bg-color: #3B4455;\n",
              "      --fill-color: #D2E3FC;\n",
              "      --hover-bg-color: #434B5C;\n",
              "      --hover-fill-color: #FFFFFF;\n",
              "      --disabled-bg-color: #3B4455;\n",
              "      --disabled-fill-color: #666;\n",
              "  }\n",
              "\n",
              "  .colab-df-quickchart {\n",
              "    background-color: var(--bg-color);\n",
              "    border: none;\n",
              "    border-radius: 50%;\n",
              "    cursor: pointer;\n",
              "    display: none;\n",
              "    fill: var(--fill-color);\n",
              "    height: 32px;\n",
              "    padding: 0;\n",
              "    width: 32px;\n",
              "  }\n",
              "\n",
              "  .colab-df-quickchart:hover {\n",
              "    background-color: var(--hover-bg-color);\n",
              "    box-shadow: 0 1px 2px rgba(60, 64, 67, 0.3), 0 1px 3px 1px rgba(60, 64, 67, 0.15);\n",
              "    fill: var(--button-hover-fill-color);\n",
              "  }\n",
              "\n",
              "  .colab-df-quickchart-complete:disabled,\n",
              "  .colab-df-quickchart-complete:disabled:hover {\n",
              "    background-color: var(--disabled-bg-color);\n",
              "    fill: var(--disabled-fill-color);\n",
              "    box-shadow: none;\n",
              "  }\n",
              "\n",
              "  .colab-df-spinner {\n",
              "    border: 2px solid var(--fill-color);\n",
              "    border-color: transparent;\n",
              "    border-bottom-color: var(--fill-color);\n",
              "    animation:\n",
              "      spin 1s steps(1) infinite;\n",
              "  }\n",
              "\n",
              "  @keyframes spin {\n",
              "    0% {\n",
              "      border-color: transparent;\n",
              "      border-bottom-color: var(--fill-color);\n",
              "      border-left-color: var(--fill-color);\n",
              "    }\n",
              "    20% {\n",
              "      border-color: transparent;\n",
              "      border-left-color: var(--fill-color);\n",
              "      border-top-color: var(--fill-color);\n",
              "    }\n",
              "    30% {\n",
              "      border-color: transparent;\n",
              "      border-left-color: var(--fill-color);\n",
              "      border-top-color: var(--fill-color);\n",
              "      border-right-color: var(--fill-color);\n",
              "    }\n",
              "    40% {\n",
              "      border-color: transparent;\n",
              "      border-right-color: var(--fill-color);\n",
              "      border-top-color: var(--fill-color);\n",
              "    }\n",
              "    60% {\n",
              "      border-color: transparent;\n",
              "      border-right-color: var(--fill-color);\n",
              "    }\n",
              "    80% {\n",
              "      border-color: transparent;\n",
              "      border-right-color: var(--fill-color);\n",
              "      border-bottom-color: var(--fill-color);\n",
              "    }\n",
              "    90% {\n",
              "      border-color: transparent;\n",
              "      border-bottom-color: var(--fill-color);\n",
              "    }\n",
              "  }\n",
              "</style>\n",
              "\n",
              "      <script>\n",
              "        async function quickchart(key) {\n",
              "          const quickchartButtonEl =\n",
              "            document.querySelector('#' + key + ' button');\n",
              "          quickchartButtonEl.disabled = true;  // To prevent multiple clicks.\n",
              "          quickchartButtonEl.classList.add('colab-df-spinner');\n",
              "          try {\n",
              "            const charts = await google.colab.kernel.invokeFunction(\n",
              "                'suggestCharts', [key], {});\n",
              "          } catch (error) {\n",
              "            console.error('Error during call to suggestCharts:', error);\n",
              "          }\n",
              "          quickchartButtonEl.classList.remove('colab-df-spinner');\n",
              "          quickchartButtonEl.classList.add('colab-df-quickchart-complete');\n",
              "        }\n",
              "        (() => {\n",
              "          let quickchartButtonEl =\n",
              "            document.querySelector('#df-a44857f9-c9f6-4404-827b-322ac9e1a557 button');\n",
              "          quickchartButtonEl.style.display =\n",
              "            google.colab.kernel.accessAllowed ? 'block' : 'none';\n",
              "        })();\n",
              "      </script>\n",
              "    </div>\n",
              "\n",
              "    </div>\n",
              "  </div>\n"
            ],
            "application/vnd.google.colaboratory.intrinsic+json": {
              "type": "dataframe",
              "variable_name": "df",
              "summary": "{\n  \"name\": \"df\",\n  \"rows\": 72104,\n  \"fields\": [\n    {\n      \"column\": \"utility_name\",\n      \"properties\": {\n        \"dtype\": \"category\",\n        \"num_unique_values\": 1060,\n        \"samples\": [\n          \"Washington Electric Coop - (VT)\",\n          \"Covington Electric Coop, Inc\",\n          \"Niagara Mohawk Power Corp.\"\n        ],\n        \"semantic_type\": \"\",\n        \"description\": \"\"\n      }\n    },\n    {\n      \"column\": \"state\",\n      \"properties\": {\n        \"dtype\": \"category\",\n        \"num_unique_values\": 51,\n        \"samples\": [\n          \"NV\",\n          \"MN\",\n          \"WA\"\n        ],\n        \"semantic_type\": \"\",\n        \"description\": \"\"\n      }\n    },\n    {\n      \"column\": \"ownership\",\n      \"properties\": {\n        \"dtype\": \"category\",\n        \"num_unique_values\": 7,\n        \"samples\": [\n          \"Investor Owned\",\n          \"Municipal\",\n          \"Retail Power Marketer\"\n        ],\n        \"semantic_type\": \"\",\n        \"description\": \"\"\n      }\n    },\n    {\n      \"column\": \"comm_rate\",\n      \"properties\": {\n        \"dtype\": \"number\",\n        \"std\": 0.04137303109061016,\n        \"min\": 0.014366684164138,\n        \"max\": 0.7,\n        \"num_unique_values\": 1195,\n        \"samples\": [\n          0.087076353675155,\n          0.1526449513260441,\n          0.1018284010094058\n        ],\n        \"semantic_type\": \"\",\n        \"description\": \"\"\n      }\n    },\n    {\n      \"column\": \"ind_rate\",\n      \"properties\": {\n        \"dtype\": \"number\",\n        \"std\": 0.0424541111045786,\n        \"min\": 0.0045917048641382,\n        \"max\": 0.65,\n        \"num_unique_values\": 1195,\n        \"samples\": [\n          0.0595705316396825,\n          0.0851920811642664,\n          0.0993903925871738\n        ],\n        \"semantic_type\": \"\",\n        \"description\": \"\"\n      }\n    },\n    {\n      \"column\": \"res_rate\",\n      \"properties\": {\n        \"dtype\": \"number\",\n        \"std\": 0.040800396149515736,\n        \"min\": 0.0277777777777777,\n        \"max\": 0.3516570442307926,\n        \"num_unique_values\": 1194,\n        \"samples\": [\n          0.1084816413409803,\n          0.3370368489076266,\n          0.0981652292630948\n        ],\n        \"semantic_type\": \"\",\n        \"description\": \"\"\n      }\n    },\n    {\n      \"column\": \"service_type_Bundled\",\n      \"properties\": {\n        \"dtype\": \"boolean\",\n        \"num_unique_values\": 2,\n        \"samples\": [\n          false,\n          true\n        ],\n        \"semantic_type\": \"\",\n        \"description\": \"\"\n      }\n    },\n    {\n      \"column\": \"service_type_Delivery\",\n      \"properties\": {\n        \"dtype\": \"boolean\",\n        \"num_unique_values\": 2,\n        \"samples\": [\n          true,\n          false\n        ],\n        \"semantic_type\": \"\",\n        \"description\": \"\"\n      }\n    }\n  ]\n}"
            }
          },
          "metadata": {},
          "execution_count": 162
        }
      ],
      "source": [
        "df = pd.get_dummies(df, columns=[\"service_type\"])\n",
        "df.head()"
      ]
    },
    {
      "cell_type": "markdown",
      "id": "bd06bd60-f39a-44ac-9bfb-8ab9ba8c9f23",
      "metadata": {
        "id": "bd06bd60-f39a-44ac-9bfb-8ab9ba8c9f23"
      },
      "source": [
        "Given that we are aiming to predict whether a utility is invester owned or not, we also need to split the service_type column into separate columns utilizing the one-hot encoding method where each unique value in the original column creates new columns. Here there is only one values that will be True in a given row for the created dummy columns. In this case they are \"service_type_Bundled\", \"service_type_Delivery\", and \"service_type_Energy\""
      ]
    },
    {
      "cell_type": "markdown",
      "id": "I_Mg-9Hj5gN3",
      "metadata": {
        "id": "I_Mg-9Hj5gN3"
      },
      "source": [
        "# Data  Visualization"
      ]
    },
    {
      "cell_type": "code",
      "execution_count": 163,
      "id": "ffFH-_VJ5jx5",
      "metadata": {
        "colab": {
          "base_uri": "https://localhost:8080/",
          "height": 1000
        },
        "id": "ffFH-_VJ5jx5",
        "outputId": "028d9e0d-e978-4fce-bdf3-48b6e33221f8"
      },
      "outputs": [
        {
          "output_type": "execute_result",
          "data": {
            "text/plain": [
              "<seaborn.axisgrid.PairGrid at 0x7f646dc2a310>"
            ]
          },
          "metadata": {},
          "execution_count": 163
        },
        {
          "output_type": "display_data",
          "data": {
            "text/plain": [
              "<Figure size 1120x1400 with 30 Axes>"
            ],
            "image/png": "[encoded data removed]"
          },
          "metadata": {}
        }
      ],
      "source": [
        "sns.pairplot(data=df, kind='scatter', height=2.8, aspect=0.8)"
      ]
    },
    {
      "cell_type": "code",
      "execution_count": 164,
      "id": "070c5450-9a0e-49f8-91c5-bbaa15bad888",
      "metadata": {
        "colab": {
          "base_uri": "https://localhost:8080/",
          "height": 654
        },
        "id": "070c5450-9a0e-49f8-91c5-bbaa15bad888",
        "outputId": "b21f49e5-f403-4436-8157-1bc5d4fc1f2b"
      },
      "outputs": [
        {
          "output_type": "execute_result",
          "data": {
            "text/plain": [
              "Text(0.5, 0, 'Service Type')"
            ]
          },
          "metadata": {},
          "execution_count": 164
        },
        {
          "output_type": "display_data",
          "data": {
            "text/plain": [
              "<Figure size 900x700 with 1 Axes>"
            ],
            "image/png": "[encoded data removed]"
          },
          "metadata": {}
        }
      ],
      "source": [
        "# \"service_type_energy\" was removed from bar plot due to being dropped during preprocessing zeroing (causing error)\n",
        "service_counts = df[[\"service_type_Bundled\", \"service_type_Delivery\"]].sum()\n",
        "plt.bar(service_counts.index, np.log(service_counts.values), color=[\"blue\", \"green\"])\n",
        "plt.title(\"Counts of each Service Type\")\n",
        "plt.ylabel(\"Log of Counts\")\n",
        "plt.xlabel(\"Service Type\")"
      ]
    },
    {
      "cell_type": "markdown",
      "id": "Oy1F6Fmu5vxM",
      "metadata": {
        "id": "Oy1F6Fmu5vxM"
      },
      "source": [
        "Here are two visualizations of the data for now. One shows a pairpolot of all the numerical categories in the df to easily inspect for any relationships. We have also plotted a log bar plot to see the amount of each service type relative to each other."
      ]
    },
    {
      "cell_type": "markdown",
      "id": "Lpcqnt9p6AL_",
      "metadata": {
        "id": "Lpcqnt9p6AL_"
      },
      "source": [
        "# Machine Learning Data Preparation"
      ]
    },
    {
      "cell_type": "markdown",
      "id": "g0ej6mE6iDwa",
      "metadata": {
        "id": "g0ej6mE6iDwa"
      },
      "source": [
        "**Classification: Decision Tree**"
      ]
    },
    {
      "cell_type": "code",
      "source": [
        "# Create binary target column\n",
        "df['ownership_encoded'] = df['ownership'].apply(lambda x: 1 if 'Investor' in x else 0)\n",
        "\n",
        "# Define predictors and target\n",
        "predictors = ['comm_rate', 'ind_rate', 'res_rate',\n",
        "              'service_type_Bundled', 'service_type_Delivery']\n",
        "target = 'ownership_encoded'\n",
        "\n",
        "# Feature matrix and labels\n",
        "X = df[predictors]\n",
        "y = df[target]\n",
        "\n",
        "# Train/test split\n",
        "X_train_raw, X_test_raw, y_train, y_test = train_test_split(X, y, test_size=0.3, random_state=42)\n"
      ],
      "metadata": {
        "id": "jYhxEv7iVkJQ"
      },
      "id": "jYhxEv7iVkJQ",
      "execution_count": 165,
      "outputs": []
    },
    {
      "cell_type": "code",
      "execution_count": 166,
      "id": "ywnkeC8riGE-",
      "metadata": {
        "id": "ywnkeC8riGE-",
        "colab": {
          "base_uri": "https://localhost:8080/"
        },
        "outputId": "2b944252-e760-4505-cba2-bc58236606c3"
      },
      "outputs": [
        {
          "output_type": "stream",
          "name": "stdout",
          "text": [
            "Decision Tree Classification Accuracy: 0.8492973372781065\n",
            "              precision    recall  f1-score   support\n",
            "\n",
            "           0       0.76      0.78      0.77      6983\n",
            "           1       0.89      0.88      0.89     14649\n",
            "\n",
            "    accuracy                           0.85     21632\n",
            "   macro avg       0.83      0.83      0.83     21632\n",
            "weighted avg       0.85      0.85      0.85     21632\n",
            "\n"
          ]
        }
      ],
      "source": [
        "clf = DecisionTreeClassifier(max_depth=5, random_state=42)\n",
        "clf.fit(X_train_raw, y_train)\n",
        "y_pred = clf.predict(X_test_raw)\n",
        "\n",
        "print(\"Decision Tree Classification Accuracy:\", accuracy_score(y_test, y_pred))\n",
        "print(classification_report(y_test, y_pred))"
      ]
    },
    {
      "cell_type": "markdown",
      "id": "8jYv5Eovlz3O",
      "metadata": {
        "id": "8jYv5Eovlz3O"
      },
      "source": [
        "To classify whether an electric utility company is investor-owned, a Decision Tree Classifier was implemented using selected features (comm_rate, ind_rate, res_rate, and one-hot encoded service types). The dataset was split into training and testing sets using a 70/30 ratio. The model was trained with a maximum tree depth of 5 to prevent overfitting. After training, predictions were evaluated using accuracy and a detailed classification report, providing insight into the model’s precision, recall, and F1 score. This approach offers a simple yet interpretable baseline for classification tasks on the dataset."
      ]
    },
    {
      "cell_type": "markdown",
      "id": "-dJJli85jP5n",
      "metadata": {
        "id": "-dJJli85jP5n"
      },
      "source": [
        "**Regression: Predict Commercial Rate**"
      ]
    },
    {
      "cell_type": "code",
      "execution_count": 167,
      "id": "sKwW3ytejeZW",
      "metadata": {
        "id": "sKwW3ytejeZW",
        "colab": {
          "base_uri": "https://localhost:8080/"
        },
        "outputId": "bd2dfebd-bf6c-49ac-e5ee-36307b17cd91"
      },
      "outputs": [
        {
          "output_type": "stream",
          "name": "stdout",
          "text": [
            "Regression RMSE: 0.03446053861685903\n"
          ]
        }
      ],
      "source": [
        "# Predicting commercial rate from service types\n",
        "reg = LinearRegression()\n",
        "X_reg = df[[\"service_type_Bundled\", \"service_type_Delivery\"]]\n",
        "y_reg = df[\"comm_rate\"]\n",
        "\n",
        "X_train_r, X_test_r, y_train_r, y_test_r = train_test_split(X_reg, y_reg, test_size=0.3, random_state=42)\n",
        "reg.fit(X_train_r, y_train_r)\n",
        "y_pred_r = reg.predict(X_test_r)\n",
        "\n",
        "print(\"Regression RMSE:\", np.sqrt(mean_squared_error(y_test_r, y_pred_r)))"
      ]
    },
    {
      "cell_type": "markdown",
      "id": "RJriQmCel5bB",
      "metadata": {
        "id": "RJriQmCel5bB"
      },
      "source": [
        "A linear regression model was used to predict commercial electricity rates (comm_rate) based on the utility's service type, represented through one-hot encoded features: service_type_Bundled, service_type_Delivery, and service_type_Energy. The data was split into training and testing sets using a 70/30 ratio. After training, the model's performance was evaluated using Root Mean Squared Error (RMSE), which quantifies the average prediction error. This regression helps understand how service type influences commercial rates and provides a baseline for modeling rate prediction."
      ]
    },
    {
      "cell_type": "markdown",
      "id": "-k5M7ALSj_cg",
      "metadata": {
        "id": "-k5M7ALSj_cg"
      },
      "source": [
        "**KNeighborsClassifier**"
      ]
    },
    {
      "cell_type": "code",
      "execution_count": 168,
      "id": "jpO_YkmvkB0o",
      "metadata": {
        "id": "jpO_YkmvkB0o",
        "colab": {
          "base_uri": "https://localhost:8080/"
        },
        "outputId": "986c659a-f62a-4fca-cea9-8c657365d0ac"
      },
      "outputs": [
        {
          "output_type": "stream",
          "name": "stdout",
          "text": [
            "Decision Tree Classification Accuracy: 0.8114367603550295\n",
            "\n",
            "Classification Report:\n",
            "                        precision    recall  f1-score   support\n",
            "\n",
            "          Cooperative       0.68      0.74      0.71      5510\n",
            "              Federal       0.00      0.00      0.00        12\n",
            "       Investor Owned       0.87      0.91      0.89     14649\n",
            "            Municipal       0.44      0.04      0.07       892\n",
            "Political Subdivision       0.41      0.10      0.16       463\n",
            "Retail Power Marketer       0.00      0.00      0.00        81\n",
            "                State       0.00      0.00      0.00        25\n",
            "\n",
            "             accuracy                           0.81     21632\n",
            "            macro avg       0.34      0.26      0.26     21632\n",
            "         weighted avg       0.79      0.81      0.79     21632\n",
            "\n"
          ]
        },
        {
          "output_type": "stream",
          "name": "stderr",
          "text": [
            "/usr/local/lib/python3.11/dist-packages/sklearn/metrics/_classification.py:1565: UndefinedMetricWarning: Precision is ill-defined and being set to 0.0 in labels with no predicted samples. Use `zero_division` parameter to control this behavior.\n",
            "  _warn_prf(average, modifier, f\"{metric.capitalize()} is\", len(result))\n",
            "/usr/local/lib/python3.11/dist-packages/sklearn/metrics/_classification.py:1565: UndefinedMetricWarning: Precision is ill-defined and being set to 0.0 in labels with no predicted samples. Use `zero_division` parameter to control this behavior.\n",
            "  _warn_prf(average, modifier, f\"{metric.capitalize()} is\", len(result))\n",
            "/usr/local/lib/python3.11/dist-packages/sklearn/metrics/_classification.py:1565: UndefinedMetricWarning: Precision is ill-defined and being set to 0.0 in labels with no predicted samples. Use `zero_division` parameter to control this behavior.\n",
            "  _warn_prf(average, modifier, f\"{metric.capitalize()} is\", len(result))\n"
          ]
        }
      ],
      "source": [
        "# Define predictors and target (make sure these column names exist in df)\n",
        "predictors = ['comm_rate', 'ind_rate', 'res_rate',\n",
        "              'service_type_Bundled', 'service_type_Delivery']\n",
        "target = 'ownership'\n",
        "\n",
        "# Create the feature matrix (X) and target array (y)\n",
        "X = df[predictors]\n",
        "y = df[target]\n",
        "\n",
        "# Train-test split\n",
        "X_train_raw, X_test_raw, y_train, y_test = train_test_split(X, y, test_size=0.3, random_state=42)\n",
        "\n",
        "# Train a Decision Tree Classifier\n",
        "clf = DecisionTreeClassifier(max_depth=5, random_state=42)\n",
        "clf.fit(X_train_raw, y_train)\n",
        "y_pred = clf.predict(X_test_raw)\n",
        "\n",
        "# Evaluate model performance\n",
        "print(\"Decision Tree Classification Accuracy:\", accuracy_score(y_test, y_pred))\n",
        "print(\"\\nClassification Report:\\n\", classification_report(y_test, y_pred))"
      ]
    },
    {
      "cell_type": "markdown",
      "id": "ZnTFD0qclqvw",
      "metadata": {
        "id": "ZnTFD0qclqvw"
      },
      "source": [
        "To predict whether an electric utility company is investor-owned, we implemented a K-Nearest Neighbors (KNN) classifier using service type and electricity rate features (comm_rate, ind_rate, res_rate, and one-hot encoded service_type). After preprocessing the data (dropping irrelevant columns and encoding categorical variables), we scaled the numeric features to ensure fair distance calculations for KNN. We trained the model on a stratified 70/30 train-test split and evaluated it using accuracy, confusion matrix, and classification report metrics. The implementation provides a baseline for supervised learning on the dataset and supports further tuning and model comparison."
      ]
    },
    {
      "cell_type": "markdown",
      "source": [
        "**Hyperparameter tuning**"
      ],
      "metadata": {
        "id": "d2TEFiB0bRga"
      },
      "id": "d2TEFiB0bRga"
    },
    {
      "cell_type": "code",
      "source": [
        "# Define predictors and target\n",
        "predictors = ['comm_rate', 'ind_rate', 'res_rate',\n",
        "              'service_type_Bundled', 'service_type_Delivery']\n",
        "target = 'ownership_encoded'\n",
        "\n",
        "# Create feature matrix and target\n",
        "X = df[predictors]\n",
        "y = df[target]\n",
        "\n",
        "# Train/test split\n",
        "X_train, X_test, y_train, y_test = train_test_split(X, y, test_size=0.3, random_state=42)\n",
        "\n",
        "# Set up the parameter grid\n",
        "param_grid = {\n",
        "    'max_depth': [3, 5, 10, None],\n",
        "    'min_samples_split': [2, 5, 10],\n",
        "    'criterion': ['gini', 'entropy']\n",
        "}\n",
        "\n",
        "# Initialize the base model\n",
        "dt = DecisionTreeClassifier(random_state=42)\n",
        "\n",
        "# Perform grid search with cross-validation\n",
        "grid_search = GridSearchCV(dt, param_grid, cv=5, scoring='accuracy', n_jobs=-1)\n",
        "grid_search.fit(X_train, y_train)\n",
        "\n",
        "# Best model\n",
        "best_model = grid_search.best_estimator_\n",
        "\n",
        "# Predict and evaluate\n",
        "y_pred = best_model.predict(X_test)\n",
        "\n",
        "print(\"Best Hyperparameters:\", grid_search.best_params_)\n",
        "print(\"Tuned Decision Tree Accuracy:\", accuracy_score(y_test, y_pred))\n",
        "print(\"\\nClassification Report:\\n\", classification_report(y_test, y_pred))"
      ],
      "metadata": {
        "colab": {
          "base_uri": "https://localhost:8080/"
        },
        "id": "rJ1TBpxNbXjm",
        "outputId": "6ffd8fdd-378c-4783-a68c-de9c55218151"
      },
      "id": "rJ1TBpxNbXjm",
      "execution_count": 169,
      "outputs": [
        {
          "output_type": "stream",
          "name": "stdout",
          "text": [
            "Best Hyperparameters: {'criterion': 'gini', 'max_depth': None, 'min_samples_split': 2}\n",
            "Tuned Decision Tree Accuracy: 0.9998613165680473\n",
            "\n",
            "Classification Report:\n",
            "               precision    recall  f1-score   support\n",
            "\n",
            "           0       1.00      1.00      1.00      6983\n",
            "           1       1.00      1.00      1.00     14649\n",
            "\n",
            "    accuracy                           1.00     21632\n",
            "   macro avg       1.00      1.00      1.00     21632\n",
            "weighted avg       1.00      1.00      1.00     21632\n",
            "\n"
          ]
        }
      ]
    },
    {
      "cell_type": "markdown",
      "source": [
        "To optimize the performance of our Decision Tree Classifier, we applied hyperparameter tuning using GridSearchCV. This method systematically searched through a range of parameter combinations, including max_depth, min_samples_split, and the split criterion (gini or entropy), using 5-fold cross-validation. By evaluating each combination, the grid search identified the best-performing model configuration. The tuned model improved classification accuracy and provided more reliable predictions compared to the default parameters, enhancing our ability to predict whether a utility is investor-owned based on service type and rate-related features."
      ],
      "metadata": {
        "id": "myhqz2a4cNE-"
      },
      "id": "myhqz2a4cNE-"
    },
    {
      "cell_type": "markdown",
      "source": [
        "**Random Forest Classifier**"
      ],
      "metadata": {
        "id": "L0z0FpH_g4a7"
      },
      "id": "L0z0FpH_g4a7"
    },
    {
      "cell_type": "code",
      "source": [
        "# Define features and target\n",
        "features = [\n",
        "    'comm_rate', 'ind_rate', 'res_rate',\n",
        "    'service_type_Bundled', 'service_type_Delivery'\n",
        "]\n",
        "\n",
        "target = 'ownership_encoded'\n",
        "\n",
        "# Create feature matrix and target vector\n",
        "X = df[features]\n",
        "y = df[target]\n",
        "\n",
        "# Train-test split\n",
        "X_train, X_test, y_train, y_test = train_test_split(X, y, test_size=0.3, random_state=42)\n",
        "\n",
        "# Feature scaling\n",
        "scaler = StandardScaler()\n",
        "X_train_scaled = scaler.fit_transform(X_train)\n",
        "X_test_scaled = scaler.transform(X_test)\n",
        "\n",
        "# Train Random Forest Classifier\n",
        "rf = RandomForestClassifier(n_estimators=100, random_state=42)\n",
        "rf.fit(X_train_scaled, y_train)\n",
        "\n",
        "# Predictions and evaluation\n",
        "y_pred = rf.predict(X_test_scaled)\n",
        "\n",
        "print(\"Random Forest Accuracy:\", accuracy_score(y_test, y_pred))\n",
        "print(\"Classification Report:\\n\", classification_report(y_test, y_pred))"
      ],
      "metadata": {
        "id": "izOFsmoig7D6",
        "outputId": "5e25a27f-85fa-4d0c-f301-54a29ad3b114",
        "colab": {
          "base_uri": "https://localhost:8080/"
        }
      },
      "id": "izOFsmoig7D6",
      "execution_count": 170,
      "outputs": [
        {
          "output_type": "stream",
          "name": "stdout",
          "text": [
            "Random Forest Accuracy: 0.9999537721893491\n",
            "Classification Report:\n",
            "               precision    recall  f1-score   support\n",
            "\n",
            "           0       1.00      1.00      1.00      6983\n",
            "           1       1.00      1.00      1.00     14649\n",
            "\n",
            "    accuracy                           1.00     21632\n",
            "   macro avg       1.00      1.00      1.00     21632\n",
            "weighted avg       1.00      1.00      1.00     21632\n",
            "\n"
          ]
        }
      ]
    },
    {
      "cell_type": "markdown",
      "source": [
        "A Random Forest Classifier was applied to predict whether an electric utility company is investor-owned based on its commercial, industrial, and residential electricity rates, along with the service type. The dataset was preprocessed and standardized, and the model was trained using 70% of the data and tested on the remaining 30%. The Random Forest model achieved strong performance by aggregating decisions across 100 decision trees, offering robust classification with lower risk of overfitting compared to a single decision tree."
      ],
      "metadata": {
        "id": "W5t3EhPWhsXG"
      },
      "id": "W5t3EhPWhsXG"
    },
    {
      "cell_type": "markdown",
      "source": [
        "**Naive Bayes Classification**"
      ],
      "metadata": {
        "id": "J3kj_HBrjYIe"
      },
      "id": "J3kj_HBrjYIe"
    },
    {
      "cell_type": "code",
      "source": [
        "# --- Define features and target ---\n",
        "features = [\n",
        "    'comm_rate', 'ind_rate', 'res_rate',\n",
        "    'service_type_Bundled', 'service_type_Delivery'\n",
        "]\n",
        "target = 'ownership_encoded'\n",
        "\n",
        "# --- Create feature matrix and target ---\n",
        "X = df[features]\n",
        "y = df[target]\n",
        "\n",
        "# --- Train-test split ---\n",
        "X_train, X_test, y_train, y_test = train_test_split(X, y, test_size=0.3, random_state=42)\n",
        "\n",
        "# --- Feature scaling (important for GaussianNB) ---\n",
        "scaler = StandardScaler()\n",
        "X_train_scaled = scaler.fit_transform(X_train)\n",
        "X_test_scaled = scaler.transform(X_test)\n",
        "\n",
        "# --- Train and evaluate Naive Bayes Classifier ---\n",
        "nb = GaussianNB()\n",
        "nb.fit(X_train_scaled, y_train)\n",
        "y_pred = nb.predict(X_test_scaled)\n",
        "\n",
        "# --- Results ---\n",
        "print(\"Naive Bayes Accuracy:\", accuracy_score(y_test, y_pred))\n",
        "print(\"Classification Report:\\n\", classification_report(y_test, y_pred))"
      ],
      "metadata": {
        "id": "2DXLBSqdjaJo",
        "outputId": "85678abf-6def-4c78-b513-805128e9f76c",
        "colab": {
          "base_uri": "https://localhost:8080/"
        }
      },
      "id": "2DXLBSqdjaJo",
      "execution_count": 171,
      "outputs": [
        {
          "output_type": "stream",
          "name": "stdout",
          "text": [
            "Naive Bayes Accuracy: 0.5503883136094675\n",
            "Classification Report:\n",
            "               precision    recall  f1-score   support\n",
            "\n",
            "           0       0.42      0.96      0.58      6983\n",
            "           1       0.95      0.35      0.52     14649\n",
            "\n",
            "    accuracy                           0.55     21632\n",
            "   macro avg       0.68      0.66      0.55     21632\n",
            "weighted avg       0.78      0.55      0.54     21632\n",
            "\n"
          ]
        }
      ]
    },
    {
      "cell_type": "markdown",
      "source": [
        "We implemented a Gaussian Naive Bayes classifier to predict investor-owned utilities based on commercial, industrial, residential rates, and service types. After scaling features and splitting the dataset, the model was trained using the assumption of feature independence. While Naive Bayes is a relatively simple algorithm, it provides fast and effective baseline performance for classification tasks involving continuous numerical features."
      ],
      "metadata": {
        "id": "6yYhVS-WjjkN"
      },
      "id": "6yYhVS-WjjkN"
    },
    {
      "cell_type": "code",
      "execution_count": 172,
      "id": "gL7Z4Bhe6PTD",
      "metadata": {
        "id": "gL7Z4Bhe6PTD"
      },
      "outputs": [],
      "source": [
        "# Select the predictor variables and target variables to be used\n",
        "predictors = [\"service_type_Bundled\", \"service_type_Delivery\", \"comm_rate\", \"ind_rate\", \"res_rate\"]\n",
        "target = \"ownership\"\n",
        "X = df[predictors].values\n",
        "y = df[target].values"
      ]
    },
    {
      "cell_type": "code",
      "execution_count": 173,
      "id": "b26125ee-826b-40d4-8706-55af4c5065c3",
      "metadata": {
        "id": "b26125ee-826b-40d4-8706-55af4c5065c3"
      },
      "outputs": [],
      "source": [
        "# KNN can be slow, so get a random sample of the full data set\n",
        "indexes = np.random.choice(y.size, size=10000, replace=False)\n",
        "X_mini = X[indexes]\n",
        "y_mini = y[indexes]"
      ]
    },
    {
      "cell_type": "code",
      "execution_count": 174,
      "id": "ebb8a3fa-52a3-4317-b472-9db5264ac903",
      "metadata": {
        "id": "ebb8a3fa-52a3-4317-b472-9db5264ac903"
      },
      "outputs": [],
      "source": [
        "X_train_raw, X_test_raw, y_train, y_test = train_test_split(X_mini, y_mini, test_size=0.30, random_state=42)"
      ]
    },
    {
      "cell_type": "markdown",
      "id": "659eb02c-fcdc-40f3-badd-f59666ff6949",
      "metadata": {
        "id": "659eb02c-fcdc-40f3-badd-f59666ff6949"
      },
      "source": [
        "For now, the predictor varibales are grouped together. A side not that we may need to split the"
      ]
    }
  ],
  "metadata": {
    "colab": {
      "provenance": []
    },
    "kernelspec": {
      "display_name": ".venv",
      "language": "python",
      "name": "python3"
    },
    "language_info": {
      "codemirror_mode": {
        "name": "ipython",
        "version": 3
      },
      "file_extension": ".py",
      "mimetype": "text/x-python",
      "name": "python",
      "nbconvert_exporter": "python",
      "pygments_lexer": "ipython3",
      "version": "3.13.2"
    }
  },
  "nbformat": 4,
  "nbformat_minor": 5
}